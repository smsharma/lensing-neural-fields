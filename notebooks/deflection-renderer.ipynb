{
 "cells": [
  {
   "cell_type": "code",
   "execution_count": 1,
   "id": "b3094d16-cdd0-42b7-b892-4fb863d75384",
   "metadata": {
    "executionInfo": {
     "elapsed": 685,
     "status": "ok",
     "timestamp": 1652455590622,
     "user": {
      "displayName": "Siddharth Mishra-Sharma",
      "userId": "12134882132898528741"
     },
     "user_tz": 240
    },
    "id": "b3094d16-cdd0-42b7-b892-4fb863d75384"
   },
   "outputs": [],
   "source": [
    "import os\n",
    "import sys\n",
    "sys.path.append(\"../\")\n",
    "\n",
    "import numpy as np\n",
    "import matplotlib.pyplot as plt\n",
    "from tqdm import tqdm\n",
    "import jax\n",
    "import jax.numpy as jnp\n",
    "from jax import vmap, jit\n",
    "import numpyro.distributions as dist\n",
    "from einops import rearrange, repeat\n",
    "from scipy.stats import multivariate_normal\n",
    "\n",
    "%load_ext autoreload\n",
    "%autoreload 2"
   ]
  },
  {
   "cell_type": "code",
   "execution_count": 2,
   "id": "69acb82a-2052-4add-ad4d-00484ee29bd4",
   "metadata": {
    "executionInfo": {
     "elapsed": 13696,
     "status": "ok",
     "timestamp": 1652455630634,
     "user": {
      "displayName": "Siddharth Mishra-Sharma",
      "userId": "12134882132898528741"
     },
     "user_tz": 240
    },
    "id": "69acb82a-2052-4add-ad4d-00484ee29bd4"
   },
   "outputs": [],
   "source": [
    "from gigalens.model import PhysicalModel\n",
    "from gigalens.jax.simulator import LensSimulator\n",
    "from gigalens.simulator import SimulatorConfig\n",
    "from gigalens.jax.profiles.light import interp\n",
    "from gigalens.jax.profiles.mass import shear, sie, field"
   ]
  },
  {
   "cell_type": "code",
   "execution_count": 3,
   "id": "55484ce3-46fb-4be6-8edd-60d58f12c741",
   "metadata": {
    "executionInfo": {
     "elapsed": 5,
     "status": "ok",
     "timestamp": 1652455630905,
     "user": {
      "displayName": "Siddharth Mishra-Sharma",
      "userId": "12134882132898528741"
     },
     "user_tz": 240
    },
    "id": "55484ce3-46fb-4be6-8edd-60d58f12c741"
   },
   "outputs": [],
   "source": [
    "# Color maps for main and residual plots\n",
    "cmap = 'magma'\n",
    "cmap_resid = 'RdGy'"
   ]
  },
  {
   "cell_type": "markdown",
   "id": "9a0282ba-a574-46cc-b2e6-111655496719",
   "metadata": {},
   "source": [
    "## Configuration"
   ]
  },
  {
   "cell_type": "code",
   "execution_count": 4,
   "id": "a0a58d0b",
   "metadata": {},
   "outputs": [],
   "source": [
    "data_dir = \"../data/\""
   ]
  },
  {
   "cell_type": "code",
   "execution_count": 5,
   "id": "e6fb5df0-6e33-49ed-b0b1-e48b7716b0fe",
   "metadata": {
    "executionInfo": {
     "elapsed": 5,
     "status": "ok",
     "timestamp": 1652455630906,
     "user": {
      "displayName": "Siddharth Mishra-Sharma",
      "userId": "12134882132898528741"
     },
     "user_tz": 240
    },
    "id": "e6fb5df0-6e33-49ed-b0b1-e48b7716b0fe"
   },
   "outputs": [],
   "source": [
    "## Image configuration\n",
    "\n",
    "image_extent = 5  # Size of image in arcmin\n",
    "n_xy = 100  # Number of pixels\n",
    "\n",
    "n_sup = 1  # Supersampling of source factor during fitting\n",
    "n_xy_s = int(n_sup * n_xy)\n",
    "\n",
    "fwhm_psf = 0.005  # ELT FWHM of 5 mas from 1903.04742"
   ]
  },
  {
   "cell_type": "code",
   "execution_count": 6,
   "id": "fed64376-cc39-44a7-90c9-70f2db959b5c",
   "metadata": {},
   "outputs": [],
   "source": [
    "lens_conf_idx = 0  # Whether to use lens configuration 0 or 1 (see below)"
   ]
  },
  {
   "cell_type": "code",
   "execution_count": 7,
   "id": "7d8dddb9-e02b-465b-83c6-ea73dbf559ec",
   "metadata": {},
   "outputs": [],
   "source": [
    "## MLP configuration\n",
    "\n",
    "num_dense_layers = 4\n",
    "dense_layer_width = 256\n",
    "add_positional_encoding = False\n",
    "positional_encoding_dims = 5\n",
    "add_random_fourier = True\n",
    "bandwidth_rff = 5.\n",
    "add_skip_connection = False"
   ]
  },
  {
   "cell_type": "code",
   "execution_count": 8,
   "id": "fc3fa688-edb6-4f5d-91d5-1447d08094e0",
   "metadata": {},
   "outputs": [],
   "source": [
    "## RNG; set to fixed values for deterministic run\n",
    "key_model = 42  # np.random.randint(1000)\n",
    "key_train = 43  # np.random.randint(1000)"
   ]
  },
  {
   "cell_type": "code",
   "execution_count": 9,
   "id": "0793c191-314a-4a59-89c7-8f6c89506ed1",
   "metadata": {},
   "outputs": [],
   "source": [
    "## Training configuration\n",
    "\n",
    "n_q_samples = 64  # Number of MC samples used to build ELBO expectation\n",
    "\n",
    "learning_rate_init = 1e-3\n",
    "learning_rate_variational = 1e-3\n",
    "weight_decay = 1e-4\n",
    "momentum = 0.5\n",
    "\n",
    "train_epochs = 15000\n",
    "warmup_steps = 0\n",
    "plot_every = 200"
   ]
  },
  {
   "cell_type": "markdown",
   "id": "14c1371a-0a90-411d-89d5-b394de47029d",
   "metadata": {
    "id": "14c1371a-0a90-411d-89d5-b394de47029d"
   },
   "source": [
    "## Source image"
   ]
  },
  {
   "cell_type": "code",
   "execution_count": 10,
   "id": "35f90f5e-b51e-44aa-b0ee-6d183d4e953a",
   "metadata": {
    "colab": {
     "base_uri": "https://localhost:8080/",
     "height": 351
    },
    "executionInfo": {
     "elapsed": 2254,
     "status": "ok",
     "timestamp": 1652455633155,
     "user": {
      "displayName": "Siddharth Mishra-Sharma",
      "userId": "12134882132898528741"
     },
     "user_tz": 240
    },
    "id": "35f90f5e-b51e-44aa-b0ee-6d183d4e953a",
    "outputId": "aec61986-3dba-4857-adb6-562b971331b0"
   },
   "outputs": [],
   "source": [
    "from PIL import Image\n",
    "from skimage.transform import resize\n",
    "from urllib import request"
   ]
  },
  {
   "cell_type": "code",
   "execution_count": 11,
   "id": "74c1f517-3d17-4929-8b9f-2ea33b4e81a1",
   "metadata": {},
   "outputs": [
    {
     "data": {
      "text/plain": [
       "<matplotlib.image.AxesImage at 0x2a2a30fd0>"
      ]
     },
     "execution_count": 11,
     "metadata": {},
     "output_type": "execute_result"
    },
    {
     "data": {
      "image/png": "[encoded data removed]",
      "text/plain": [
       "<Figure size 640x480 with 1 Axes>"
      ]
     },
     "metadata": {},
     "output_type": "display_data"
    }
   ],
   "source": [
    "galaxy_url = \"https://cdn.spacetelescope.org/archives/images/large/potw2015a.jpg\"\n",
    "galaxy_name = \"NGC2906\"\n",
    "\n",
    "# galaxy_url = \"https://cdn.spacetelescope.org/archives/images/large/opo0501a.jpg\"\n",
    "# galaxy_name = \"NGC1300\"\n",
    "\n",
    "# galaxy_url = \"https://cdn.spacetelescope.org/archives/images/large/potw1801a.jpg\"\n",
    "# galaxy_name = \"UGC6093\"\n",
    "\n",
    "if not os.path.exists(\"{}/galaxy_images/{}.jpg\".format(data_dir, galaxy_name)):\n",
    "    request.urlretrieve(galaxy_url, \"{}/galaxy_images/{}.jpg\".format(data_dir, galaxy_name))\n",
    "\n",
    "im_source = np.asarray(Image.open(\"{}/galaxy_images/{}.jpg\".format(data_dir, galaxy_name)).convert('L'))\n",
    "\n",
    "im_source_temp = np.zeros((np.max(im_source.shape), np.max(im_source.shape)))\n",
    "im_source_temp[int(im_source.shape[1] / 2 - im_source.shape[0] / 2):int(im_source.shape[1] / 2 + im_source.shape[0] / 2), :] = im_source\n",
    "im_source = im_source_temp\n",
    "im_source = im_source - np.min(im_source)\n",
    "im_source = im_source / np.max(im_source)\n",
    "if galaxy_name == \"NGC1300\":\n",
    "    im_source = np.pad(im_source, (1920, 1920))\n",
    "elif galaxy_name == \"UGC6093\":\n",
    "    im_source = np.pad(im_source, (640, 640))\n",
    "else:\n",
    "    im_source = np.pad(im_source, (1024, 1024))\n",
    "im_source = resize(im_source, (n_xy_s, n_xy_s), anti_aliasing=True)\n",
    "im_source[im_source < 0.05] = 0.\n",
    "plt.imshow(im_source , cmap=cmap)\n"
   ]
  },
  {
   "cell_type": "markdown",
   "id": "e2f9c1cf-2b5e-437c-aef6-40926c5fc5a2",
   "metadata": {},
   "source": [
    "## Lensed image"
   ]
  },
  {
   "cell_type": "code",
   "execution_count": 12,
   "id": "e67adeb7-aac0-48bd-a688-2aec955578d5",
   "metadata": {},
   "outputs": [],
   "source": [
    "sigma_psf = fwhm_psf / 2 ** 1.5 * np.sqrt(np.log(2))  # Convert FWHM to standard deviation"
   ]
  },
  {
   "cell_type": "code",
   "execution_count": 13,
   "id": "cdc9d656-e7be-41a4-b308-3b5d77d29f4c",
   "metadata": {},
   "outputs": [],
   "source": [
    "## Make Gaussian PSF kernel\n",
    "\n",
    "delta_pix = image_extent / n_xy\n",
    "\n",
    "x_kern = np.linspace(-6, 6, 13)\n",
    "x, y = np.meshgrid(x_kern, x_kern)\n",
    "kernel = multivariate_normal(mean=np.zeros(2), cov=np.ones(2) * sigma_psf / delta_pix).pdf(np.dstack((x, y)))\n",
    "kernel /= np.sum(kernel)\n",
    "\n",
    "# plt.imshow(kernel)"
   ]
  },
  {
   "cell_type": "code",
   "execution_count": 14,
   "id": "1c0f2e83-4fda-4104-8574-a26777c96e3c",
   "metadata": {
    "colab": {
     "base_uri": "https://localhost:8080/",
     "height": 345
    },
    "executionInfo": {
     "elapsed": 2755,
     "status": "ok",
     "timestamp": 1652455959393,
     "user": {
      "displayName": "Siddharth Mishra-Sharma",
      "userId": "12134882132898528741"
     },
     "user_tz": 240
    },
    "id": "1c0f2e83-4fda-4104-8574-a26777c96e3c",
    "outputId": "4fc15ee2-3c95-4347-ba97-e4b590fb0b4e"
   },
   "outputs": [
    {
     "data": {
      "text/plain": [
       "<matplotlib.image.AxesImage at 0x299fb96d0>"
      ]
     },
     "execution_count": 14,
     "metadata": {},
     "output_type": "execute_result"
    },
    {
     "data": {
      "image/png": "[encoded data removed]",
      "text/plain": [
       "<Figure size 640x480 with 1 Axes>"
      ]
     },
     "metadata": {},
     "output_type": "display_data"
    }
   ],
   "source": [
    "## Lensed image\n",
    "\n",
    "# Supersample to reduce artifacting\n",
    "sim_config = SimulatorConfig(delta_pix=delta_pix, num_pix=n_xy_s, supersample=8, kernel=kernel)\n",
    "coord_half = sim_config.delta_pix * sim_config.num_pix / 2\n",
    "x_lims = [-coord_half, coord_half]\n",
    "y_lims = [-coord_half, coord_half]\n",
    "phys_model = PhysicalModel([sie.SIE(), shear.Shear()], [], [interp.Interp()])\n",
    "\n",
    "lens_sim = LensSimulator(phys_model, sim_config, bs=1)\n",
    "\n",
    "if lens_conf_idx == 0:\n",
    "    truth = [[\n",
    "        {'theta_E': 1.3, 'e1': 0.2, 'e2': 0.1, 'center_x': 0.1, 'center_y': 0.0},\n",
    "        {'gamma1': -0.02, 'gamma2': 0.02}\n",
    "    ], [ \n",
    "        {'img': im_source, 'x_lims': x_lims, 'y_lims': y_lims}\n",
    "    ]]\n",
    "elif lens_conf_idx == 1:\n",
    "    truth = [[\n",
    "        {'theta_E': 1.1, 'e1': 0.1, 'e2': 0.15, 'center_x': 0.4, 'center_y': -0.1},\n",
    "        {'gamma1': -0.03, 'gamma2': 0.04}\n",
    "    ], [ \n",
    "        {'img': im_source, 'x_lims': x_lims, 'y_lims': y_lims}\n",
    "    ]]\n",
    "else:\n",
    "    raise NotImplementedError\n",
    "    \n",
    "std_noise = 1.e-6\n",
    "image = lens_sim.simulate(truth)\n",
    "image += std_noise * np.random.randn(*image.shape)\n",
    "image = image.reshape(-1, n_sup, image.shape[-1] // n_sup, n_sup).sum((-1, -3))\n",
    "\n",
    "# Revert supersampling configuration for forward simulator\n",
    "sim_config = SimulatorConfig(delta_pix=delta_pix, num_pix=n_xy_s, supersample=1, kernel=kernel)\n",
    "lens_sim = LensSimulator(phys_model, sim_config, bs=1)\n",
    "\n",
    "plt.imshow(image.T, origin='lower' , cmap=cmap)"
   ]
  },
  {
   "cell_type": "code",
   "execution_count": 19,
   "id": "01ff94da-307e-4884-9b41-92294363405e",
   "metadata": {
    "tags": []
   },
   "outputs": [
    {
     "data": {
      "text/plain": [
       "1110.5221"
      ]
     },
     "execution_count": 19,
     "metadata": {},
     "output_type": "execute_result"
    }
   ],
   "source": [
    "# Compute SNR around lens\n",
    "np.median(image[image > 0.5 * image.max()] / std_noise)"
   ]
  },
  {
   "cell_type": "code",
   "execution_count": 20,
   "id": "666bd0ce-61fc-4f5d-8d64-20c597b2eb98",
   "metadata": {
    "colab": {
     "base_uri": "https://localhost:8080/"
    },
    "executionInfo": {
     "elapsed": 297,
     "status": "ok",
     "timestamp": 1652455960710,
     "user": {
      "displayName": "Siddharth Mishra-Sharma",
      "userId": "12134882132898528741"
     },
     "user_tz": 240
    },
    "id": "666bd0ce-61fc-4f5d-8d64-20c597b2eb98",
    "outputId": "e78a2bcb-cc96-445e-dd81-739fe07c6d1b",
    "tags": []
   },
   "outputs": [
    {
     "data": {
      "text/plain": [
       "Array(1886.5697, dtype=float32)"
      ]
     },
     "execution_count": 20,
     "metadata": {},
     "output_type": "execute_result"
    }
   ],
   "source": [
    "# Compute max SNR\n",
    "image.max() / std_noise"
   ]
  },
  {
   "cell_type": "code",
   "execution_count": 40,
   "id": "da36726c-00a2-4993-a445-eda89b3c2536",
   "metadata": {},
   "outputs": [],
   "source": [
    "def rho(x,y):\n",
    "    return 1 / (x ** 2 + y ** 2)"
   ]
  },
  {
   "cell_type": "code",
   "execution_count": 38,
   "id": "e5414702-0b37-4986-8d0e-e072e69d7415",
   "metadata": {},
   "outputs": [
    {
     "data": {
      "text/plain": [
       "(Array([[-0.0056, -0.    ],\n",
       "        [-0.    , -0.004 ]], dtype=float32),\n",
       " Array([[-0.0008, -0.    ],\n",
       "        [-0.    , -0.004 ]], dtype=float32))"
      ]
     },
     "execution_count": 38,
     "metadata": {},
     "output_type": "execute_result"
    }
   ],
   "source": [
    "jax.jacfwd(rho, argnums=(0,1))(jnp.array([7.,5.]), jnp.array([1.,5.]))"
   ]
  },
  {
   "cell_type": "code",
   "execution_count": 41,
   "id": "7b10673e-9df6-4b0f-83fd-153005629c88",
   "metadata": {},
   "outputs": [
    {
     "data": {
      "text/plain": [
       "(Array(-0.00295858, dtype=float32, weak_type=True),\n",
       " Array(-0.0147929, dtype=float32, weak_type=True))"
      ]
     },
     "execution_count": 41,
     "metadata": {},
     "output_type": "execute_result"
    }
   ],
   "source": [
    "jax.grad(rho, argnums=(0,1))(1., 5.)"
   ]
  },
  {
   "cell_type": "code",
   "execution_count": 48,
   "id": "9b25b273-bc70-4cb3-9a17-6e587660e8e0",
   "metadata": {},
   "outputs": [
    {
     "ename": "ValueError",
     "evalue": "vmap in_axes specification must be a tree prefix of the corresponding value, got specification ((0, 1), (0, 1)) for value tree PyTreeDef((*, *)).",
     "output_type": "error",
     "traceback": [
      "\u001b[0;31m---------------------------------------------------------------------------\u001b[0m",
      "\u001b[0;31mValueError\u001b[0m                                Traceback (most recent call last)",
      "Cell \u001b[0;32mIn [48], line 1\u001b[0m\n\u001b[0;32m----> 1\u001b[0m \u001b[43mjax\u001b[49m\u001b[38;5;241;43m.\u001b[39;49m\u001b[43mvmap\u001b[49m\u001b[43m(\u001b[49m\u001b[43mjax\u001b[49m\u001b[38;5;241;43m.\u001b[39;49m\u001b[43mgrad\u001b[49m\u001b[43m(\u001b[49m\u001b[43mrho\u001b[49m\u001b[43m,\u001b[49m\u001b[43m \u001b[49m\u001b[43margnums\u001b[49m\u001b[38;5;241;43m=\u001b[39;49m\u001b[43m(\u001b[49m\u001b[38;5;241;43m0\u001b[39;49m\u001b[43m,\u001b[49m\u001b[38;5;241;43m1\u001b[39;49m\u001b[43m)\u001b[49m\u001b[43m)\u001b[49m\u001b[43m,\u001b[49m\u001b[43m \u001b[49m\u001b[43min_axes\u001b[49m\u001b[38;5;241;43m=\u001b[39;49m\u001b[43m(\u001b[49m\u001b[43m(\u001b[49m\u001b[38;5;241;43m0\u001b[39;49m\u001b[43m,\u001b[49m\u001b[38;5;241;43m1\u001b[39;49m\u001b[43m)\u001b[49m\u001b[43m,\u001b[49m\u001b[43m \u001b[49m\u001b[43m(\u001b[49m\u001b[38;5;241;43m0\u001b[39;49m\u001b[43m,\u001b[49m\u001b[38;5;241;43m1\u001b[39;49m\u001b[43m)\u001b[49m\u001b[43m)\u001b[49m\u001b[43m)\u001b[49m\u001b[43m(\u001b[49m\u001b[43mjnp\u001b[49m\u001b[38;5;241;43m.\u001b[39;49m\u001b[43marray\u001b[49m\u001b[43m(\u001b[49m\u001b[43m[\u001b[49m\u001b[43m[\u001b[49m\u001b[38;5;241;43m7.\u001b[39;49m\u001b[43m,\u001b[49m\u001b[38;5;241;43m5.\u001b[39;49m\u001b[43m]\u001b[49m\u001b[43m,\u001b[49m\u001b[43m[\u001b[49m\u001b[38;5;241;43m7.\u001b[39;49m\u001b[43m,\u001b[49m\u001b[38;5;241;43m5.\u001b[39;49m\u001b[43m]\u001b[49m\u001b[43m]\u001b[49m\u001b[43m)\u001b[49m\u001b[43m,\u001b[49m\u001b[43m \u001b[49m\u001b[43mjnp\u001b[49m\u001b[38;5;241;43m.\u001b[39;49m\u001b[43marray\u001b[49m\u001b[43m(\u001b[49m\u001b[43m[\u001b[49m\u001b[43m[\u001b[49m\u001b[38;5;241;43m1.\u001b[39;49m\u001b[43m,\u001b[49m\u001b[38;5;241;43m5.\u001b[39;49m\u001b[43m]\u001b[49m\u001b[43m,\u001b[49m\u001b[43m[\u001b[49m\u001b[38;5;241;43m7.\u001b[39;49m\u001b[43m,\u001b[49m\u001b[38;5;241;43m5.\u001b[39;49m\u001b[43m]\u001b[49m\u001b[43m]\u001b[49m\u001b[43m)\u001b[49m\u001b[43m)\u001b[49m\n",
      "    \u001b[0;31m[... skipping hidden 2 frame]\u001b[0m\n",
      "File \u001b[0;32m/opt/homebrew/Caskroom/miniforge/base/envs/torch-mps/lib/python3.9/site-packages/jax/_src/api_util.py:418\u001b[0m, in \u001b[0;36mflatten_axes\u001b[0;34m(name, treedef, axis_tree, kws, tupled_args)\u001b[0m\n\u001b[1;32m    414\u001b[0m       \u001b[38;5;28;01melse\u001b[39;00m:\n\u001b[1;32m    415\u001b[0m         hint \u001b[38;5;241m+\u001b[39m\u001b[38;5;241m=\u001b[39m (\u001b[38;5;124mf\u001b[39m\u001b[38;5;124m\"\u001b[39m\u001b[38;5;124m In particular, you\u001b[39m\u001b[38;5;124m'\u001b[39m\u001b[38;5;124mre passing in a single argument which \u001b[39m\u001b[38;5;124m\"\u001b[39m\n\u001b[1;32m    416\u001b[0m                  \u001b[38;5;124mf\u001b[39m\u001b[38;5;124m\"\u001b[39m\u001b[38;5;124mmeans that \u001b[39m\u001b[38;5;132;01m{\u001b[39;00mname\u001b[38;5;132;01m}\u001b[39;00m\u001b[38;5;124m might need to be wrapped in \u001b[39m\u001b[38;5;124m\"\u001b[39m\n\u001b[1;32m    417\u001b[0m                  \u001b[38;5;124mf\u001b[39m\u001b[38;5;124m\"\u001b[39m\u001b[38;5;124ma singleton tuple.\u001b[39m\u001b[38;5;124m\"\u001b[39m)\n\u001b[0;32m--> 418\u001b[0m   \u001b[38;5;28;01mraise\u001b[39;00m \u001b[38;5;167;01mValueError\u001b[39;00m(\u001b[38;5;124mf\u001b[39m\u001b[38;5;124m\"\u001b[39m\u001b[38;5;132;01m{\u001b[39;00mname\u001b[38;5;132;01m}\u001b[39;00m\u001b[38;5;124m specification must be a tree prefix of the \u001b[39m\u001b[38;5;124m\"\u001b[39m\n\u001b[1;32m    419\u001b[0m                    \u001b[38;5;124mf\u001b[39m\u001b[38;5;124m\"\u001b[39m\u001b[38;5;124mcorresponding value, got specification \u001b[39m\u001b[38;5;132;01m{\u001b[39;00maxis_tree\u001b[38;5;132;01m}\u001b[39;00m\u001b[38;5;124m \u001b[39m\u001b[38;5;124m\"\u001b[39m\n\u001b[1;32m    420\u001b[0m                    \u001b[38;5;124mf\u001b[39m\u001b[38;5;124m\"\u001b[39m\u001b[38;5;124mfor value tree \u001b[39m\u001b[38;5;132;01m{\u001b[39;00mtreedef\u001b[38;5;132;01m}\u001b[39;00m\u001b[38;5;124m.\u001b[39m\u001b[38;5;132;01m{\u001b[39;00mhint\u001b[38;5;132;01m}\u001b[39;00m\u001b[38;5;124m\"\u001b[39m) \u001b[38;5;28;01mfrom\u001b[39;00m \u001b[38;5;28mNone\u001b[39m\n\u001b[1;32m    421\u001b[0m axes \u001b[38;5;241m=\u001b[39m [\u001b[38;5;28;01mNone\u001b[39;00m \u001b[38;5;28;01mif\u001b[39;00m a \u001b[38;5;129;01mis\u001b[39;00m proxy \u001b[38;5;28;01melse\u001b[39;00m a \u001b[38;5;28;01mfor\u001b[39;00m a \u001b[38;5;129;01min\u001b[39;00m axes]\n\u001b[1;32m    422\u001b[0m \u001b[38;5;28;01massert\u001b[39;00m \u001b[38;5;28mlen\u001b[39m(axes) \u001b[38;5;241m==\u001b[39m treedef\u001b[38;5;241m.\u001b[39mnum_leaves\n",
      "\u001b[0;31mValueError\u001b[0m: vmap in_axes specification must be a tree prefix of the corresponding value, got specification ((0, 1), (0, 1)) for value tree PyTreeDef((*, *))."
     ]
    }
   ],
   "source": [
    "jax.vmap(jax.grad(rho, argnums=(0,1)), in_axes=((0,1), (0,1)))(jnp.array([[7.,5.],[7.,5.]]), jnp.array([[1.,5.],[7.,5.]]))"
   ]
  },
  {
   "cell_type": "code",
   "execution_count": 31,
   "id": "541b5009-7518-45b8-b758-af56fffb52ef",
   "metadata": {},
   "outputs": [
    {
     "name": "stdout",
     "output_type": "stream",
     "text": [
      "(800, 800, 1) (800, 800, 1)\n",
      "(800, 800, 800, 800, 1) (800, 800, 800, 800, 1)\n"
     ]
    },
    {
     "ename": "TypeError",
     "evalue": "transpose permutation isn't a permutation of operand dimensions, got permutation (2, 0, 1) for operand shape (800, 800, 800, 800, 1).",
     "output_type": "error",
     "traceback": [
      "\u001b[0;31m---------------------------------------------------------------------------\u001b[0m",
      "\u001b[0;31mTypeError\u001b[0m                                 Traceback (most recent call last)",
      "Cell \u001b[0;32mIn [31], line 20\u001b[0m\n\u001b[1;32m     12\u001b[0m truth \u001b[38;5;241m=\u001b[39m [[\n\u001b[1;32m     13\u001b[0m     {\u001b[38;5;124m'\u001b[39m\u001b[38;5;124mimg\u001b[39m\u001b[38;5;124m'\u001b[39m: im_source, \u001b[38;5;124m'\u001b[39m\u001b[38;5;124mx_lims\u001b[39m\u001b[38;5;124m'\u001b[39m: x_lims, \u001b[38;5;124m'\u001b[39m\u001b[38;5;124my_lims\u001b[39m\u001b[38;5;124m'\u001b[39m: y_lims},\n\u001b[1;32m     14\u001b[0m     {\u001b[38;5;124m'\u001b[39m\u001b[38;5;124mgamma1\u001b[39m\u001b[38;5;124m'\u001b[39m: \u001b[38;5;241m-\u001b[39m\u001b[38;5;241m0.02\u001b[39m, \u001b[38;5;124m'\u001b[39m\u001b[38;5;124mgamma2\u001b[39m\u001b[38;5;124m'\u001b[39m: \u001b[38;5;241m0.02\u001b[39m}\n\u001b[1;32m     15\u001b[0m ], [ \n\u001b[1;32m     16\u001b[0m     {\u001b[38;5;124m'\u001b[39m\u001b[38;5;124mimg\u001b[39m\u001b[38;5;124m'\u001b[39m: im_source, \u001b[38;5;124m'\u001b[39m\u001b[38;5;124mx_lims\u001b[39m\u001b[38;5;124m'\u001b[39m: x_lims, \u001b[38;5;124m'\u001b[39m\u001b[38;5;124my_lims\u001b[39m\u001b[38;5;124m'\u001b[39m: y_lims}\n\u001b[1;32m     17\u001b[0m ]]\n\u001b[1;32m     19\u001b[0m std_noise \u001b[38;5;241m=\u001b[39m \u001b[38;5;241m1.e-6\u001b[39m\n\u001b[0;32m---> 20\u001b[0m image \u001b[38;5;241m=\u001b[39m \u001b[43mlens_sim\u001b[49m\u001b[38;5;241;43m.\u001b[39;49m\u001b[43msimulate\u001b[49m\u001b[43m(\u001b[49m\u001b[43mtruth\u001b[49m\u001b[43m)\u001b[49m\n\u001b[1;32m     21\u001b[0m image \u001b[38;5;241m+\u001b[39m\u001b[38;5;241m=\u001b[39m std_noise \u001b[38;5;241m*\u001b[39m np\u001b[38;5;241m.\u001b[39mrandom\u001b[38;5;241m.\u001b[39mrandn(\u001b[38;5;241m*\u001b[39mimage\u001b[38;5;241m.\u001b[39mshape)\n\u001b[1;32m     22\u001b[0m image \u001b[38;5;241m=\u001b[39m image\u001b[38;5;241m.\u001b[39mreshape(\u001b[38;5;241m-\u001b[39m\u001b[38;5;241m1\u001b[39m, n_sup, image\u001b[38;5;241m.\u001b[39mshape[\u001b[38;5;241m-\u001b[39m\u001b[38;5;241m1\u001b[39m] \u001b[38;5;241m/\u001b[39m\u001b[38;5;241m/\u001b[39m n_sup, n_sup)\u001b[38;5;241m.\u001b[39msum((\u001b[38;5;241m-\u001b[39m\u001b[38;5;241m1\u001b[39m, \u001b[38;5;241m-\u001b[39m\u001b[38;5;241m3\u001b[39m))\n",
      "    \u001b[0;31m[... skipping hidden 12 frame]\u001b[0m\n",
      "File \u001b[0;32m~/Projects/lensing-neural-fields/notebooks/../gigalens/jax/simulator.py:70\u001b[0m, in \u001b[0;36mLensSimulator.simulate\u001b[0;34m(self, params, no_deflection)\u001b[0m\n\u001b[1;32m     68\u001b[0m \u001b[38;5;28;01mfor\u001b[39;00m lightModel, p \u001b[38;5;129;01min\u001b[39;00m \u001b[38;5;28mzip\u001b[39m(\u001b[38;5;28mself\u001b[39m\u001b[38;5;241m.\u001b[39mphys_model\u001b[38;5;241m.\u001b[39msource_light, source_light_params):\n\u001b[1;32m     69\u001b[0m     img \u001b[38;5;241m+\u001b[39m\u001b[38;5;241m=\u001b[39m lightModel\u001b[38;5;241m.\u001b[39mlight(beta_x, beta_y, \u001b[38;5;241m*\u001b[39m\u001b[38;5;241m*\u001b[39mp)\n\u001b[0;32m---> 70\u001b[0m img \u001b[38;5;241m=\u001b[39m \u001b[43mjnp\u001b[49m\u001b[38;5;241;43m.\u001b[39;49m\u001b[43mtranspose\u001b[49m\u001b[43m(\u001b[49m\u001b[43mimg\u001b[49m\u001b[43m,\u001b[49m\u001b[43m \u001b[49m\u001b[43m(\u001b[49m\u001b[38;5;241;43m2\u001b[39;49m\u001b[43m,\u001b[49m\u001b[43m \u001b[49m\u001b[38;5;241;43m0\u001b[39;49m\u001b[43m,\u001b[49m\u001b[43m \u001b[49m\u001b[38;5;241;43m1\u001b[39;49m\u001b[43m)\u001b[49m\u001b[43m)\u001b[49m\n\u001b[1;32m     71\u001b[0m img \u001b[38;5;241m=\u001b[39m jnp\u001b[38;5;241m.\u001b[39mnan_to_num(img)\n\u001b[1;32m     72\u001b[0m ret \u001b[38;5;241m=\u001b[39m lax\u001b[38;5;241m.\u001b[39mconv(img[:, jnp\u001b[38;5;241m.\u001b[39mnewaxis, \u001b[38;5;241m.\u001b[39m\u001b[38;5;241m.\u001b[39m\u001b[38;5;241m.\u001b[39m], \u001b[38;5;28mself\u001b[39m\u001b[38;5;241m.\u001b[39mflat_kernel, (\u001b[38;5;241m1\u001b[39m, \u001b[38;5;241m1\u001b[39m), \u001b[38;5;124m\"\u001b[39m\u001b[38;5;124mSAME\u001b[39m\u001b[38;5;124m\"\u001b[39m) \u001b[38;5;28;01mif\u001b[39;00m \u001b[38;5;28mself\u001b[39m\u001b[38;5;241m.\u001b[39mflat_kernel \u001b[38;5;129;01mis\u001b[39;00m \u001b[38;5;129;01mnot\u001b[39;00m \u001b[38;5;28;01mNone\u001b[39;00m \u001b[38;5;28;01melse\u001b[39;00m img\n",
      "File \u001b[0;32m/opt/homebrew/Caskroom/miniforge/base/envs/torch-mps/lib/python3.9/site-packages/jax/_src/numpy/lax_numpy.py:557\u001b[0m, in \u001b[0;36mtranspose\u001b[0;34m(a, axes)\u001b[0m\n\u001b[1;32m    555\u001b[0m axes_ \u001b[38;5;241m=\u001b[39m \u001b[38;5;28mlist\u001b[39m(\u001b[38;5;28mrange\u001b[39m(ndim(a))[::\u001b[38;5;241m-\u001b[39m\u001b[38;5;241m1\u001b[39m]) \u001b[38;5;28;01mif\u001b[39;00m axes \u001b[38;5;129;01mis\u001b[39;00m \u001b[38;5;28;01mNone\u001b[39;00m \u001b[38;5;28;01melse\u001b[39;00m axes\n\u001b[1;32m    556\u001b[0m axes_ \u001b[38;5;241m=\u001b[39m [_canonicalize_axis(i, ndim(a)) \u001b[38;5;28;01mfor\u001b[39;00m i \u001b[38;5;129;01min\u001b[39;00m axes_]\n\u001b[0;32m--> 557\u001b[0m \u001b[38;5;28;01mreturn\u001b[39;00m \u001b[43mlax\u001b[49m\u001b[38;5;241;43m.\u001b[39;49m\u001b[43mtranspose\u001b[49m\u001b[43m(\u001b[49m\u001b[43ma\u001b[49m\u001b[43m,\u001b[49m\u001b[43m \u001b[49m\u001b[43maxes_\u001b[49m\u001b[43m)\u001b[49m\n",
      "    \u001b[0;31m[... skipping hidden 7 frame]\u001b[0m\n",
      "File \u001b[0;32m/opt/homebrew/Caskroom/miniforge/base/envs/torch-mps/lib/python3.9/site-packages/jax/_src/lax/lax.py:3360\u001b[0m, in \u001b[0;36m_transpose_shape_rule\u001b[0;34m(operand, permutation)\u001b[0m\n\u001b[1;32m   3357\u001b[0m \u001b[38;5;28;01mif\u001b[39;00m \u001b[38;5;28mtuple\u001b[39m(\u001b[38;5;28msorted\u001b[39m(permutation)) \u001b[38;5;241m!=\u001b[39m \u001b[38;5;28mtuple\u001b[39m(\u001b[38;5;28mrange\u001b[39m(operand\u001b[38;5;241m.\u001b[39mndim)):\n\u001b[1;32m   3358\u001b[0m   msg \u001b[38;5;241m=\u001b[39m (\u001b[38;5;124m\"\u001b[39m\u001b[38;5;124mtranspose permutation isn\u001b[39m\u001b[38;5;124m'\u001b[39m\u001b[38;5;124mt a permutation of operand dimensions, \u001b[39m\u001b[38;5;124m\"\u001b[39m\n\u001b[1;32m   3359\u001b[0m          \u001b[38;5;124m\"\u001b[39m\u001b[38;5;124mgot permutation \u001b[39m\u001b[38;5;132;01m{}\u001b[39;00m\u001b[38;5;124m for operand shape \u001b[39m\u001b[38;5;132;01m{}\u001b[39;00m\u001b[38;5;124m.\u001b[39m\u001b[38;5;124m\"\u001b[39m)\n\u001b[0;32m-> 3360\u001b[0m   \u001b[38;5;28;01mraise\u001b[39;00m \u001b[38;5;167;01mTypeError\u001b[39;00m(msg\u001b[38;5;241m.\u001b[39mformat(permutation, operand\u001b[38;5;241m.\u001b[39mshape))\n\u001b[1;32m   3361\u001b[0m \u001b[38;5;28;01mreturn\u001b[39;00m \u001b[38;5;28mtuple\u001b[39m(operand\u001b[38;5;241m.\u001b[39mshape[old_idx] \u001b[38;5;28;01mfor\u001b[39;00m old_idx \u001b[38;5;129;01min\u001b[39;00m permutation)\n",
      "\u001b[0;31mTypeError\u001b[0m: transpose permutation isn't a permutation of operand dimensions, got permutation (2, 0, 1) for operand shape (800, 800, 800, 800, 1)."
     ]
    }
   ],
   "source": [
    "## Lensed image\n",
    "\n",
    "# Supersample to reduce artifacting\n",
    "sim_config = SimulatorConfig(delta_pix=delta_pix, num_pix=n_xy_s, supersample=8, kernel=kernel)\n",
    "coord_half = sim_config.delta_pix * sim_config.num_pix / 2\n",
    "x_lims = [-coord_half, coord_half]\n",
    "y_lims = [-coord_half, coord_half]\n",
    "phys_model = PhysicalModel([field.FIELD(), shear.Shear()], [], [interp.Interp()])\n",
    "\n",
    "lens_sim = LensSimulator(phys_model, sim_config, bs=1)\n",
    "\n",
    "truth = [[\n",
    "    {'img': im_source, 'x_lims': x_lims, 'y_lims': y_lims},\n",
    "    {'gamma1': -0.02, 'gamma2': 0.02}\n",
    "], [ \n",
    "    {'img': im_source, 'x_lims': x_lims, 'y_lims': y_lims}\n",
    "]]\n",
    "    \n",
    "std_noise = 1.e-6\n",
    "image = lens_sim.simulate(truth)\n",
    "image += std_noise * np.random.randn(*image.shape)\n",
    "image = image.reshape(-1, n_sup, image.shape[-1] // n_sup, n_sup).sum((-1, -3))\n",
    "\n",
    "# Revert supersampling configuration for forward simulator\n",
    "sim_config = SimulatorConfig(delta_pix=delta_pix, num_pix=n_xy_s, supersample=1, kernel=kernel)\n",
    "lens_sim = LensSimulator(phys_model, sim_config, bs=1)\n",
    "\n",
    "plt.imshow(image.T, origin='lower' , cmap=cmap)"
   ]
  },
  {
   "cell_type": "markdown",
   "id": "6cad5878-5bb4-4527-b83e-14d812dc57e8",
   "metadata": {
    "id": "6cad5878-5bb4-4527-b83e-14d812dc57e8"
   },
   "source": [
    "## Lensed image rendering function wrapper"
   ]
  },
  {
   "cell_type": "code",
   "execution_count": 17,
   "id": "08dd77f1-df62-4dee-9b09-7da5b31a18ed",
   "metadata": {
    "executionInfo": {
     "elapsed": 266,
     "status": "ok",
     "timestamp": 1652455967628,
     "user": {
      "displayName": "Siddharth Mishra-Sharma",
      "userId": "12134882132898528741"
     },
     "user_tz": 240
    },
    "id": "08dd77f1-df62-4dee-9b09-7da5b31a18ed"
   },
   "outputs": [],
   "source": [
    "def render_lens(inputs):\n",
    "    \n",
    "    samples_src, samples_lens_params, x_lims, y_lims = inputs\n",
    "    \n",
    "    theta_E, theta_x, theta_y, e_1, e_2, gamma_1, gamma_2 = samples_lens_params\n",
    "    \n",
    "    truth = [[\n",
    "        {'theta_E': theta_E, 'e1': e_1, 'e2': e_2, 'center_x': theta_x, 'center_y': theta_y},\n",
    "        {'gamma1': gamma_1, 'gamma2': gamma_2}\n",
    "    ], [ \n",
    "        {'img': samples_src, 'x_lims': x_lims, 'y_lims': y_lims}\n",
    "    ]]\n",
    "\n",
    "    image = lens_sim.simulate(truth)\n",
    "    lens_sim.simulate(truth)\n",
    "    \n",
    "    return image"
   ]
  },
  {
   "cell_type": "code",
   "execution_count": 18,
   "id": "6ee2fb61-ed30-4dbe-9bf1-5d74d8684c61",
   "metadata": {
    "executionInfo": {
     "elapsed": 2,
     "status": "ok",
     "timestamp": 1652455967899,
     "user": {
      "displayName": "Siddharth Mishra-Sharma",
      "userId": "12134882132898528741"
     },
     "user_tz": 240
    },
    "id": "6ee2fb61-ed30-4dbe-9bf1-5d74d8684c61"
   },
   "outputs": [],
   "source": [
    "render_lens_vmapped = vmap(jit(render_lens))"
   ]
  },
  {
   "cell_type": "code",
   "execution_count": null,
   "id": "40f3656e-2020-4d9b-87da-f85926df9f6f",
   "metadata": {},
   "outputs": [],
   "source": []
  }
 ],
 "metadata": {
  "accelerator": "GPU",
  "colab": {
   "collapsed_sections": [],
   "name": "nerf_probabilistic_gigalens.ipynb",
   "provenance": []
  },
  "kernelspec": {
   "display_name": "Python 3 (ipykernel)",
   "language": "python",
   "name": "python3"
  },
  "language_info": {
   "codemirror_mode": {
    "name": "ipython",
    "version": 3
   },
   "file_extension": ".py",
   "mimetype": "text/x-python",
   "name": "python",
   "nbconvert_exporter": "python",
   "pygments_lexer": "ipython3",
   "version": "3.9.13"
  },
  "vscode": {
   "interpreter": {
    "hash": "380fdaf81a572e76ac4453c0d0c435d6f7877243e2c66ba4adbe8d143938e87f"
   }
  }
 },
 "nbformat": 4,
 "nbformat_minor": 5
}
